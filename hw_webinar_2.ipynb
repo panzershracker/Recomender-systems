{
  "nbformat": 4,
  "nbformat_minor": 0,
  "metadata": {
    "kernelspec": {
      "display_name": "Python 3",
      "language": "python",
      "name": "python3"
    },
    "language_info": {
      "codemirror_mode": {
        "name": "ipython",
        "version": 3
      },
      "file_extension": ".py",
      "mimetype": "text/x-python",
      "name": "python",
      "nbconvert_exporter": "python",
      "pygments_lexer": "ipython3",
      "version": "3.7.3"
    },
    "colab": {
      "name": "hw_webinar_2.ipynb",
      "provenance": [],
      "collapsed_sections": [],
      "include_colab_link": true
    }
  },
  "cells": [
    {
      "cell_type": "markdown",
      "metadata": {
        "id": "view-in-github",
        "colab_type": "text"
      },
      "source": [
        "<a href=\"https://colab.research.google.com/github/panzershracker/Recomender-systems/blob/master/hw_webinar_2.ipynb\" target=\"_parent\"><img src=\"https://colab.research.google.com/assets/colab-badge.svg\" alt=\"Open In Colab\"/></a>"
      ]
    },
    {
      "cell_type": "code",
      "metadata": {
        "id": "Q9PsBdV1Dr6f",
        "colab_type": "code",
        "colab": {}
      },
      "source": [
        "# !pip install implicit"
      ],
      "execution_count": 2,
      "outputs": []
    },
    {
      "cell_type": "code",
      "metadata": {
        "id": "jLjcsVRWDoTL",
        "colab_type": "code",
        "colab": {}
      },
      "source": [
        "import pandas as pd\n",
        "import numpy as np\n",
        "import matplotlib.pyplot as plt\n",
        "%matplotlib inline\n",
        "\n",
        "# Для работы с матрицами\n",
        "from scipy.sparse import csr_matrix, coo_matrix\n",
        "\n",
        "# Детерминированные алгоритмы\n",
        "from implicit.nearest_neighbours import ItemItemRecommender, CosineRecommender, TFIDFRecommender, BM25Recommender\n",
        "\n",
        "# Метрики\n",
        "from implicit.evaluation import train_test_split\n",
        "from implicit.evaluation import precision_at_k, mean_average_precision_at_k, AUC_at_k, ndcg_at_k"
      ],
      "execution_count": 3,
      "outputs": []
    },
    {
      "cell_type": "code",
      "metadata": {
        "id": "bxC9q4XNDy-I",
        "colab_type": "code",
        "colab": {
          "base_uri": "https://localhost:8080/",
          "height": 35
        },
        "outputId": "e17c38db-7253-4483-faed-51e5f3ac4f6c"
      },
      "source": [
        "from google.colab import drive\n",
        "drive.mount('/content/drive')"
      ],
      "execution_count": 4,
      "outputs": [
        {
          "output_type": "stream",
          "text": [
            "Drive already mounted at /content/drive; to attempt to forcibly remount, call drive.mount(\"/content/drive\", force_remount=True).\n"
          ],
          "name": "stdout"
        }
      ]
    },
    {
      "cell_type": "code",
      "metadata": {
        "id": "YP2tWvirDoTS",
        "colab_type": "code",
        "colab": {
          "base_uri": "https://localhost:8080/",
          "height": 142
        },
        "outputId": "4d5addde-a527-4de6-9469-baa085a6204a"
      },
      "source": [
        "data = pd.read_csv('/content/drive/My Drive/Recomender systems/2 Урок/hw_webinar_2/retail_train.csv')\n",
        "data.head(3)"
      ],
      "execution_count": 5,
      "outputs": [
        {
          "output_type": "execute_result",
          "data": {
            "text/html": [
              "<div>\n",
              "<style scoped>\n",
              "    .dataframe tbody tr th:only-of-type {\n",
              "        vertical-align: middle;\n",
              "    }\n",
              "\n",
              "    .dataframe tbody tr th {\n",
              "        vertical-align: top;\n",
              "    }\n",
              "\n",
              "    .dataframe thead th {\n",
              "        text-align: right;\n",
              "    }\n",
              "</style>\n",
              "<table border=\"1\" class=\"dataframe\">\n",
              "  <thead>\n",
              "    <tr style=\"text-align: right;\">\n",
              "      <th></th>\n",
              "      <th>user_id</th>\n",
              "      <th>basket_id</th>\n",
              "      <th>day</th>\n",
              "      <th>item_id</th>\n",
              "      <th>quantity</th>\n",
              "      <th>sales_value</th>\n",
              "      <th>store_id</th>\n",
              "      <th>retail_disc</th>\n",
              "      <th>trans_time</th>\n",
              "      <th>week_no</th>\n",
              "      <th>coupon_disc</th>\n",
              "      <th>coupon_match_disc</th>\n",
              "    </tr>\n",
              "  </thead>\n",
              "  <tbody>\n",
              "    <tr>\n",
              "      <th>0</th>\n",
              "      <td>2375</td>\n",
              "      <td>26984851472</td>\n",
              "      <td>1</td>\n",
              "      <td>1004906</td>\n",
              "      <td>1</td>\n",
              "      <td>1.39</td>\n",
              "      <td>364</td>\n",
              "      <td>-0.6</td>\n",
              "      <td>1631</td>\n",
              "      <td>1</td>\n",
              "      <td>0.0</td>\n",
              "      <td>0.0</td>\n",
              "    </tr>\n",
              "    <tr>\n",
              "      <th>1</th>\n",
              "      <td>2375</td>\n",
              "      <td>26984851472</td>\n",
              "      <td>1</td>\n",
              "      <td>1033142</td>\n",
              "      <td>1</td>\n",
              "      <td>0.82</td>\n",
              "      <td>364</td>\n",
              "      <td>0.0</td>\n",
              "      <td>1631</td>\n",
              "      <td>1</td>\n",
              "      <td>0.0</td>\n",
              "      <td>0.0</td>\n",
              "    </tr>\n",
              "    <tr>\n",
              "      <th>2</th>\n",
              "      <td>2375</td>\n",
              "      <td>26984851472</td>\n",
              "      <td>1</td>\n",
              "      <td>1036325</td>\n",
              "      <td>1</td>\n",
              "      <td>0.99</td>\n",
              "      <td>364</td>\n",
              "      <td>-0.3</td>\n",
              "      <td>1631</td>\n",
              "      <td>1</td>\n",
              "      <td>0.0</td>\n",
              "      <td>0.0</td>\n",
              "    </tr>\n",
              "  </tbody>\n",
              "</table>\n",
              "</div>"
            ],
            "text/plain": [
              "   user_id    basket_id  day  ...  week_no  coupon_disc  coupon_match_disc\n",
              "0     2375  26984851472    1  ...        1          0.0                0.0\n",
              "1     2375  26984851472    1  ...        1          0.0                0.0\n",
              "2     2375  26984851472    1  ...        1          0.0                0.0\n",
              "\n",
              "[3 rows x 12 columns]"
            ]
          },
          "metadata": {
            "tags": []
          },
          "execution_count": 5
        }
      ]
    },
    {
      "cell_type": "code",
      "metadata": {
        "id": "8eZNAEGERpSV",
        "colab_type": "code",
        "colab": {
          "base_uri": "https://localhost:8080/",
          "height": 35
        },
        "outputId": "3840d30c-4af6-4c9a-f409-4d66fc3831ed"
      },
      "source": [
        "data.shape"
      ],
      "execution_count": 6,
      "outputs": [
        {
          "output_type": "execute_result",
          "data": {
            "text/plain": [
              "(2396804, 12)"
            ]
          },
          "metadata": {
            "tags": []
          },
          "execution_count": 6
        }
      ]
    },
    {
      "cell_type": "code",
      "metadata": {
        "id": "jmXG-heiDoTX",
        "colab_type": "code",
        "colab": {}
      },
      "source": [
        "test_size_weeks = 3\n",
        "\n",
        "data_train = data[data['week_no'] < data['week_no'].max() - test_size_weeks]\n",
        "data_test = data[data['week_no'] >= data['week_no'].max() - test_size_weeks]"
      ],
      "execution_count": 7,
      "outputs": []
    },
    {
      "cell_type": "markdown",
      "metadata": {
        "id": "vTqa8DioDoTc",
        "colab_type": "text"
      },
      "source": [
        "### Задание 1. Weighted Random Recommendation\n",
        "\n",
        "Напишите код для случайных рекоммендаций, в которых вероятность рекомендовать товар прямо пропорциональна логарифму продаж\n",
        "- Можно сэмплировать товары случайно, но пропорционально какому-либо весу\n",
        "- Например, прямопропорционально популярности. Вес = log(sales_sum товара)"
      ]
    },
    {
      "cell_type": "code",
      "metadata": {
        "id": "Mjj5UNq9CQ0G",
        "colab_type": "code",
        "colab": {
          "base_uri": "https://localhost:8080/",
          "height": 142
        },
        "outputId": "3add1928-2358-4dde-db4b-c1033fd2d2a5"
      },
      "source": [
        "result_df = data_test.groupby('user_id')['item_id'].unique().reset_index()\n",
        "result_df.columns = ['user_id', 'actual']\n",
        "\n",
        "result_df.head(3)"
      ],
      "execution_count": 8,
      "outputs": [
        {
          "output_type": "execute_result",
          "data": {
            "text/html": [
              "<div>\n",
              "<style scoped>\n",
              "    .dataframe tbody tr th:only-of-type {\n",
              "        vertical-align: middle;\n",
              "    }\n",
              "\n",
              "    .dataframe tbody tr th {\n",
              "        vertical-align: top;\n",
              "    }\n",
              "\n",
              "    .dataframe thead th {\n",
              "        text-align: right;\n",
              "    }\n",
              "</style>\n",
              "<table border=\"1\" class=\"dataframe\">\n",
              "  <thead>\n",
              "    <tr style=\"text-align: right;\">\n",
              "      <th></th>\n",
              "      <th>user_id</th>\n",
              "      <th>actual</th>\n",
              "    </tr>\n",
              "  </thead>\n",
              "  <tbody>\n",
              "    <tr>\n",
              "      <th>0</th>\n",
              "      <td>1</td>\n",
              "      <td>[821867, 834484, 856942, 865456, 889248, 90795...</td>\n",
              "    </tr>\n",
              "    <tr>\n",
              "      <th>1</th>\n",
              "      <td>3</td>\n",
              "      <td>[835476, 851057, 872021, 878302, 879948, 90963...</td>\n",
              "    </tr>\n",
              "    <tr>\n",
              "      <th>2</th>\n",
              "      <td>6</td>\n",
              "      <td>[920308, 926804, 946489, 1006718, 1017061, 107...</td>\n",
              "    </tr>\n",
              "  </tbody>\n",
              "</table>\n",
              "</div>"
            ],
            "text/plain": [
              "   user_id                                             actual\n",
              "0        1  [821867, 834484, 856942, 865456, 889248, 90795...\n",
              "1        3  [835476, 851057, 872021, 878302, 879948, 90963...\n",
              "2        6  [920308, 926804, 946489, 1006718, 1017061, 107..."
            ]
          },
          "metadata": {
            "tags": []
          },
          "execution_count": 8
        }
      ]
    },
    {
      "cell_type": "code",
      "metadata": {
        "id": "0h1kWW7V-CmO",
        "colab_type": "code",
        "colab": {
          "base_uri": "https://localhost:8080/",
          "height": 204
        },
        "outputId": "e9bf119e-21c4-4689-e9c8-2ce62ca653a0"
      },
      "source": [
        "weights_df = data_train.groupby('item_id')['sales_value'].sum().reset_index() #Суммы продаж по каждому товару\n",
        "\n",
        "percent = weights_df.sales_value.quantile(0.90) #Отберем товары, которые по суммарной выручке выше 90 перцентиля\n",
        "\n",
        "weights_df = weights_df[weights_df.sales_value >= percent]\n",
        "\n",
        "weights_df['weights'] = np.log(weights_df.sales_value) / sum(np.log(weights_df.sales_value)) #Определяем веса каждого товара на основании суммарных покупок по нему + логарифмирование.\n",
        "\n",
        "weights_df = weights_df.drop('sales_value', axis=1)\n",
        "weights_df.head()"
      ],
      "execution_count": 9,
      "outputs": [
        {
          "output_type": "execute_result",
          "data": {
            "text/html": [
              "<div>\n",
              "<style scoped>\n",
              "    .dataframe tbody tr th:only-of-type {\n",
              "        vertical-align: middle;\n",
              "    }\n",
              "\n",
              "    .dataframe tbody tr th {\n",
              "        vertical-align: top;\n",
              "    }\n",
              "\n",
              "    .dataframe thead th {\n",
              "        text-align: right;\n",
              "    }\n",
              "</style>\n",
              "<table border=\"1\" class=\"dataframe\">\n",
              "  <thead>\n",
              "    <tr style=\"text-align: right;\">\n",
              "      <th></th>\n",
              "      <th>item_id</th>\n",
              "      <th>weights</th>\n",
              "    </tr>\n",
              "  </thead>\n",
              "  <tbody>\n",
              "    <tr>\n",
              "      <th>2892</th>\n",
              "      <td>259120</td>\n",
              "      <td>0.000110</td>\n",
              "    </tr>\n",
              "    <tr>\n",
              "      <th>2977</th>\n",
              "      <td>279994</td>\n",
              "      <td>0.000106</td>\n",
              "    </tr>\n",
              "    <tr>\n",
              "      <th>3414</th>\n",
              "      <td>397896</td>\n",
              "      <td>0.000156</td>\n",
              "    </tr>\n",
              "    <tr>\n",
              "      <th>3583</th>\n",
              "      <td>420647</td>\n",
              "      <td>0.000120</td>\n",
              "    </tr>\n",
              "    <tr>\n",
              "      <th>3880</th>\n",
              "      <td>480014</td>\n",
              "      <td>0.000132</td>\n",
              "    </tr>\n",
              "  </tbody>\n",
              "</table>\n",
              "</div>"
            ],
            "text/plain": [
              "      item_id   weights\n",
              "2892   259120  0.000110\n",
              "2977   279994  0.000106\n",
              "3414   397896  0.000156\n",
              "3583   420647  0.000120\n",
              "3880   480014  0.000132"
            ]
          },
          "metadata": {
            "tags": []
          },
          "execution_count": 9
        }
      ]
    },
    {
      "cell_type": "code",
      "metadata": {
        "id": "5TiVd3Ao---s",
        "colab_type": "code",
        "colab": {
          "base_uri": "https://localhost:8080/",
          "height": 35
        },
        "outputId": "722c2fc5-b9da-41cd-cc94-1460191615f3"
      },
      "source": [
        "data_train.shape"
      ],
      "execution_count": 10,
      "outputs": [
        {
          "output_type": "execute_result",
          "data": {
            "text/plain": [
              "(2278490, 12)"
            ]
          },
          "metadata": {
            "tags": []
          },
          "execution_count": 10
        }
      ]
    },
    {
      "cell_type": "code",
      "metadata": {
        "id": "zbCD5CWgAaRr",
        "colab_type": "code",
        "colab": {
          "base_uri": "https://localhost:8080/",
          "height": 35
        },
        "outputId": "f5417282-327f-4a34-9492-5ca9a2d27643"
      },
      "source": [
        "weights_df.shape, weights_df.weights.sum()"
      ],
      "execution_count": 11,
      "outputs": [
        {
          "output_type": "execute_result",
          "data": {
            "text/plain": [
              "((8687, 2), 0.9999999999999991)"
            ]
          },
          "metadata": {
            "tags": []
          },
          "execution_count": 11
        }
      ]
    },
    {
      "cell_type": "code",
      "metadata": {
        "id": "Zj4gN-s1DoTd",
        "colab_type": "code",
        "colab": {}
      },
      "source": [
        "def weighted_random_recommendation(items_weights, n=5):\n",
        "    \"\"\"Случайные рекоммендации\n",
        "    \n",
        "    Input\n",
        "    -----\n",
        "    items_weights: pd.DataFrame\n",
        "        Датафрейм со столбцами item_id, weight. Сумма weight по всем товарам = 1\n",
        "    \"\"\"\n",
        "    \n",
        "    # Подсказка: необходимо модифицировать функцию random_recommendation()\n",
        "    # your_code\n",
        "\n",
        "    probas = items_weights.weights\n",
        "   \n",
        "    items = np.array(items_weights.item_id)\n",
        "    recs = np.random.choice(items, size=n, replace=False, p=probas)\n",
        "    \n",
        "    return recs.tolist()"
      ],
      "execution_count": 12,
      "outputs": []
    },
    {
      "cell_type": "code",
      "metadata": {
        "id": "mmwTe22vDoTh",
        "colab_type": "code",
        "colab": {
          "base_uri": "https://localhost:8080/",
          "height": 53
        },
        "outputId": "66aecbf5-0a31-414e-ce80-7b694de76ec3"
      },
      "source": [
        "%%time\n",
        "\n",
        "# your_code\n",
        "\n",
        "result_df['rand_weighted_recs'] = result_df['user_id'].apply(lambda x: weighted_random_recommendation(weights_df, n=5))"
      ],
      "execution_count": 13,
      "outputs": [
        {
          "output_type": "stream",
          "text": [
            "CPU times: user 513 ms, sys: 4.43 ms, total: 518 ms\n",
            "Wall time: 526 ms\n"
          ],
          "name": "stdout"
        }
      ]
    },
    {
      "cell_type": "code",
      "metadata": {
        "id": "rYPtMfhQDsRV",
        "colab_type": "code",
        "colab": {
          "base_uri": "https://localhost:8080/",
          "height": 142
        },
        "outputId": "1d630af1-51f9-4dc6-de7b-07d7c989aa07"
      },
      "source": [
        "result_df.head(3)"
      ],
      "execution_count": 14,
      "outputs": [
        {
          "output_type": "execute_result",
          "data": {
            "text/html": [
              "<div>\n",
              "<style scoped>\n",
              "    .dataframe tbody tr th:only-of-type {\n",
              "        vertical-align: middle;\n",
              "    }\n",
              "\n",
              "    .dataframe tbody tr th {\n",
              "        vertical-align: top;\n",
              "    }\n",
              "\n",
              "    .dataframe thead th {\n",
              "        text-align: right;\n",
              "    }\n",
              "</style>\n",
              "<table border=\"1\" class=\"dataframe\">\n",
              "  <thead>\n",
              "    <tr style=\"text-align: right;\">\n",
              "      <th></th>\n",
              "      <th>user_id</th>\n",
              "      <th>actual</th>\n",
              "      <th>rand_weighted_recs</th>\n",
              "    </tr>\n",
              "  </thead>\n",
              "  <tbody>\n",
              "    <tr>\n",
              "      <th>0</th>\n",
              "      <td>1</td>\n",
              "      <td>[821867, 834484, 856942, 865456, 889248, 90795...</td>\n",
              "      <td>[825970, 7409907, 879977, 1051989, 1059823]</td>\n",
              "    </tr>\n",
              "    <tr>\n",
              "      <th>1</th>\n",
              "      <td>3</td>\n",
              "      <td>[835476, 851057, 872021, 878302, 879948, 90963...</td>\n",
              "      <td>[1133556, 996506, 968695, 831390, 930009]</td>\n",
              "    </tr>\n",
              "    <tr>\n",
              "      <th>2</th>\n",
              "      <td>6</td>\n",
              "      <td>[920308, 926804, 946489, 1006718, 1017061, 107...</td>\n",
              "      <td>[1048260, 1127825, 827856, 961846, 909714]</td>\n",
              "    </tr>\n",
              "  </tbody>\n",
              "</table>\n",
              "</div>"
            ],
            "text/plain": [
              "   user_id  ...                           rand_weighted_recs\n",
              "0        1  ...  [825970, 7409907, 879977, 1051989, 1059823]\n",
              "1        3  ...    [1133556, 996506, 968695, 831390, 930009]\n",
              "2        6  ...   [1048260, 1127825, 827856, 961846, 909714]\n",
              "\n",
              "[3 rows x 3 columns]"
            ]
          },
          "metadata": {
            "tags": []
          },
          "execution_count": 14
        }
      ]
    },
    {
      "cell_type": "markdown",
      "metadata": {
        "id": "skIp8mIKDoTm",
        "colab_type": "text"
      },
      "source": [
        "### Задание 2. Расчет метрик\n",
        "Рассчитайте Precision@5 для каждого алгоритма с помощью функции из вебинара 1. Какой алгоритм показывает лучшее качество?"
      ]
    },
    {
      "cell_type": "code",
      "metadata": {
        "id": "UQb2F47xDoTn",
        "colab_type": "code",
        "colab": {
          "base_uri": "https://localhost:8080/",
          "height": 145
        },
        "outputId": "ebb2794b-3c08-4281-93cf-987d433b92f2"
      },
      "source": [
        "result = pd.read_csv('/content/drive/My Drive/Recomender systems/2 Урок/hw_webinar_2/predictions_basic.csv')\n",
        "result.head(2)"
      ],
      "execution_count": 15,
      "outputs": [
        {
          "output_type": "execute_result",
          "data": {
            "text/html": [
              "<div>\n",
              "<style scoped>\n",
              "    .dataframe tbody tr th:only-of-type {\n",
              "        vertical-align: middle;\n",
              "    }\n",
              "\n",
              "    .dataframe tbody tr th {\n",
              "        vertical-align: top;\n",
              "    }\n",
              "\n",
              "    .dataframe thead th {\n",
              "        text-align: right;\n",
              "    }\n",
              "</style>\n",
              "<table border=\"1\" class=\"dataframe\">\n",
              "  <thead>\n",
              "    <tr style=\"text-align: right;\">\n",
              "      <th></th>\n",
              "      <th>user_id</th>\n",
              "      <th>actual</th>\n",
              "      <th>random_recommendation</th>\n",
              "      <th>popular_recommendation</th>\n",
              "      <th>itemitem</th>\n",
              "      <th>cosine</th>\n",
              "      <th>tfidf</th>\n",
              "      <th>own_purchases</th>\n",
              "    </tr>\n",
              "  </thead>\n",
              "  <tbody>\n",
              "    <tr>\n",
              "      <th>0</th>\n",
              "      <td>1</td>\n",
              "      <td>[  821867   834484   856942   865456   889248 ...</td>\n",
              "      <td>[5586238, 1015228, 866118, 2416733, 2603573]</td>\n",
              "      <td>[6534178, 6533889, 1029743, 6534166, 1082185]</td>\n",
              "      <td>[981760, 1127831, 1098066, 826249, 878996]</td>\n",
              "      <td>[981760, 1127831, 1098066, 878996, 826249]</td>\n",
              "      <td>[981760, 1127831, 1098066, 826249, 878996]</td>\n",
              "      <td>[999999, 1082185, 1029743, 995785, 1004906]</td>\n",
              "    </tr>\n",
              "    <tr>\n",
              "      <th>1</th>\n",
              "      <td>3</td>\n",
              "      <td>[  835476   851057   872021   878302   879948 ...</td>\n",
              "      <td>[161354, 63027, 1027802, 12263694, 307395]</td>\n",
              "      <td>[6534178, 6533889, 1029743, 6534166, 1082185]</td>\n",
              "      <td>[981760, 995242, 1029743, 840361, 961554]</td>\n",
              "      <td>[981760, 1004906, 961554, 1096036, 1080414]</td>\n",
              "      <td>[981760, 1004906, 859075, 1096036, 961554]</td>\n",
              "      <td>[999999, 1082185, 1098066, 6534178, 1127831]</td>\n",
              "    </tr>\n",
              "  </tbody>\n",
              "</table>\n",
              "</div>"
            ],
            "text/plain": [
              "   user_id  ...                                 own_purchases\n",
              "0        1  ...   [999999, 1082185, 1029743, 995785, 1004906]\n",
              "1        3  ...  [999999, 1082185, 1098066, 6534178, 1127831]\n",
              "\n",
              "[2 rows x 8 columns]"
            ]
          },
          "metadata": {
            "tags": []
          },
          "execution_count": 15
        }
      ]
    },
    {
      "cell_type": "code",
      "metadata": {
        "id": "6x56gnTfRmhk",
        "colab_type": "code",
        "colab": {}
      },
      "source": [
        "def str_to_int(str_):\n",
        "  \n",
        "  str_ = str_[1:-1].replace('\\n', '').replace(',', '').split()\n",
        "  int_lst = [int(i) for i in str_]\n",
        "\n",
        "  return int_lst"
      ],
      "execution_count": 16,
      "outputs": []
    },
    {
      "cell_type": "code",
      "metadata": {
        "id": "2FX6pnbolUp9",
        "colab_type": "code",
        "colab": {}
      },
      "source": [
        "for row in range(result.shape[0]):\n",
        "  for col in result.columns[1:]:\n",
        "    result.at[row, col ]= str_to_int(result.iloc[row][col]) "
      ],
      "execution_count": 17,
      "outputs": []
    },
    {
      "cell_type": "code",
      "metadata": {
        "id": "61DSKfGhoUdC",
        "colab_type": "code",
        "colab": {}
      },
      "source": [
        "result['rand_weighted_recs'] = result_df['rand_weighted_recs']"
      ],
      "execution_count": 18,
      "outputs": []
    },
    {
      "cell_type": "code",
      "metadata": {
        "id": "4ZUEJLsEpSp7",
        "colab_type": "code",
        "colab": {
          "base_uri": "https://localhost:8080/",
          "height": 97
        },
        "outputId": "62493c20-d774-4d43-bcd0-ebe544265135"
      },
      "source": [
        "result.head(1)"
      ],
      "execution_count": 19,
      "outputs": [
        {
          "output_type": "execute_result",
          "data": {
            "text/html": [
              "<div>\n",
              "<style scoped>\n",
              "    .dataframe tbody tr th:only-of-type {\n",
              "        vertical-align: middle;\n",
              "    }\n",
              "\n",
              "    .dataframe tbody tr th {\n",
              "        vertical-align: top;\n",
              "    }\n",
              "\n",
              "    .dataframe thead th {\n",
              "        text-align: right;\n",
              "    }\n",
              "</style>\n",
              "<table border=\"1\" class=\"dataframe\">\n",
              "  <thead>\n",
              "    <tr style=\"text-align: right;\">\n",
              "      <th></th>\n",
              "      <th>user_id</th>\n",
              "      <th>actual</th>\n",
              "      <th>random_recommendation</th>\n",
              "      <th>popular_recommendation</th>\n",
              "      <th>itemitem</th>\n",
              "      <th>cosine</th>\n",
              "      <th>tfidf</th>\n",
              "      <th>own_purchases</th>\n",
              "      <th>rand_weighted_recs</th>\n",
              "    </tr>\n",
              "  </thead>\n",
              "  <tbody>\n",
              "    <tr>\n",
              "      <th>0</th>\n",
              "      <td>1</td>\n",
              "      <td>[821867, 834484, 856942, 865456, 889248, 90795...</td>\n",
              "      <td>[5586238, 1015228, 866118, 2416733, 2603573]</td>\n",
              "      <td>[6534178, 6533889, 1029743, 6534166, 1082185]</td>\n",
              "      <td>[981760, 1127831, 1098066, 826249, 878996]</td>\n",
              "      <td>[981760, 1127831, 1098066, 878996, 826249]</td>\n",
              "      <td>[981760, 1127831, 1098066, 826249, 878996]</td>\n",
              "      <td>[999999, 1082185, 1029743, 995785, 1004906]</td>\n",
              "      <td>[825970, 7409907, 879977, 1051989, 1059823]</td>\n",
              "    </tr>\n",
              "  </tbody>\n",
              "</table>\n",
              "</div>"
            ],
            "text/plain": [
              "   user_id  ...                           rand_weighted_recs\n",
              "0        1  ...  [825970, 7409907, 879977, 1051989, 1059823]\n",
              "\n",
              "[1 rows x 9 columns]"
            ]
          },
          "metadata": {
            "tags": []
          },
          "execution_count": 19
        }
      ]
    },
    {
      "cell_type": "code",
      "metadata": {
        "id": "ocjesvpGLg3g",
        "colab_type": "code",
        "colab": {}
      },
      "source": [
        "def precision_at_k(recommended_list, bought_list, k=5):\n",
        "    \n",
        "    bought_list = np.array(bought_list)\n",
        "    recommended_list = np.array(recommended_list)\n",
        "    \n",
        "    flags = np.isin(bought_list, recommended_list)\n",
        "    \n",
        "    precision = flags.sum() / len(recommended_list)\n",
        "    \n",
        "    \n",
        "    return precision"
      ],
      "execution_count": 20,
      "outputs": []
    },
    {
      "cell_type": "code",
      "metadata": {
        "id": "RFW_JBVCOfqv",
        "colab_type": "code",
        "colab": {
          "base_uri": "https://localhost:8080/",
          "height": 143
        },
        "outputId": "2d61eda9-8584-4adb-ddaf-497fd08e333c"
      },
      "source": [
        "for i in result.columns[2:]:\n",
        "  precision = 0\n",
        "\n",
        "  for j in result.index:\n",
        "    precision += precision_at_k(result.iloc[j][i], result.iloc[j][\"actual\"])\n",
        "\n",
        "  print(f'Precision_at_k for {i} is {precision/j}')"
      ],
      "execution_count": 21,
      "outputs": [
        {
          "output_type": "stream",
          "text": [
            "Precision_at_k for random_recommendation is 0.0005879470847623714\n",
            "Precision_at_k for popular_recommendation is 0.15531602155805777\n",
            "Precision_at_k for itemitem is 0.03361097501224906\n",
            "Precision_at_k for cosine is 0.035276825085742466\n",
            "Precision_at_k for tfidf is 0.036158745712886034\n",
            "Precision_at_k for own_purchases is 0.18007512657193933\n",
            "Precision_at_k for rand_weighted_recs is 0.005291523762861341\n"
          ],
          "name": "stdout"
        }
      ]
    },
    {
      "cell_type": "markdown",
      "metadata": {
        "id": "RsnxgoMZDoTw",
        "colab_type": "text"
      },
      "source": [
        "### Задание 3*. Улучшение бейзлайнов и ItemItem\n",
        "\n",
        "- Попробуйте улучшить бейзлайны, считая их на топ-5000 товаров\n",
        "- Попробуйте улучшить разные варианты ItemItemRecommender, выбирая число соседей $K$."
      ]
    },
    {
      "cell_type": "code",
      "metadata": {
        "id": "7F2OmC03DoTx",
        "colab_type": "code",
        "colab": {}
      },
      "source": [
        "#  По поводу первого пункта - я не понял что нужно пересчитывать, т.к. учебном ноутбуке уже взяты 5000 товаров.\n",
        "# По поводу всего 3-го задания - я пока плохо понимаю, поэтому пропущу его. Пытался - не вышло, да и работать с чужим кодом пока тяжело дается."
      ],
      "execution_count": 22,
      "outputs": []
    }
  ]
}