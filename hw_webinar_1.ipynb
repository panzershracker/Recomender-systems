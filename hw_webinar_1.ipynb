{
  "nbformat": 4,
  "nbformat_minor": 0,
  "metadata": {
    "kernelspec": {
      "display_name": "Python 3",
      "language": "python",
      "name": "python3"
    },
    "language_info": {
      "codemirror_mode": {
        "name": "ipython",
        "version": 3
      },
      "file_extension": ".py",
      "mimetype": "text/x-python",
      "name": "python",
      "nbconvert_exporter": "python",
      "pygments_lexer": "ipython3",
      "version": "3.7.3"
    },
    "colab": {
      "name": "hw_webinar_1.ipynb",
      "provenance": [],
      "collapsed_sections": [],
      "include_colab_link": true
    }
  },
  "cells": [
    {
      "cell_type": "markdown",
      "metadata": {
        "id": "view-in-github",
        "colab_type": "text"
      },
      "source": [
        "<a href=\"https://colab.research.google.com/github/panzershracker/Recomender-systems/blob/master/hw_webinar_1.ipynb\" target=\"_parent\"><img src=\"https://colab.research.google.com/assets/colab-badge.svg\" alt=\"Open In Colab\"/></a>"
      ]
    },
    {
      "cell_type": "markdown",
      "metadata": {
        "id": "L6S1KPf-u3RM",
        "colab_type": "text"
      },
      "source": [
        "# Домащнее задание - 1"
      ]
    },
    {
      "cell_type": "markdown",
      "metadata": {
        "id": "y8JtEbwOu3RO",
        "colab_type": "text"
      },
      "source": [
        "Заполните пропуски #your_code для функций ниже"
      ]
    },
    {
      "cell_type": "code",
      "metadata": {
        "id": "gFuwMknru3RP",
        "colab_type": "code",
        "colab": {}
      },
      "source": [
        "import numpy as np\n",
        "\n",
        "recommended_list = [143, 156, 1134, 991, 27, 1543, 3345, 533, 11, 43] #id товаров\n",
        "bought_list = [521, 32, 143, 991]\n",
        "\n",
        "prices_recommended = [100, 90, 10, 450, 50, 37, 99, 120, 34, 100]\n",
        "prices_bought = [110, 190, 100, 450]"
      ],
      "execution_count": 125,
      "outputs": []
    },
    {
      "cell_type": "code",
      "metadata": {
        "id": "Li0tn7t54LIp",
        "colab_type": "code",
        "colab": {}
      },
      "source": [
        "recommended_list = np.array(recommended_list)\n",
        "bought_list = np.array(bought_list)\n",
        "\n",
        "prices_recommended = np.array(prices_recommended)\n",
        "prices_bought = np.array(prices_bought)"
      ],
      "execution_count": 126,
      "outputs": []
    },
    {
      "cell_type": "code",
      "metadata": {
        "id": "Uk2v2Fzhu3RY",
        "colab_type": "code",
        "colab": {}
      },
      "source": [
        "def hit_rate_at_k(recommended_list=recommended_list, bought_list=bought_list, k=5):\n",
        "\n",
        "    isin = np.isin(bought_list, recommended_list)\n",
        "\n",
        "    hit_rate = (isin.sum() > 0) * 1\n",
        "    \n",
        "    return hit_rate"
      ],
      "execution_count": 127,
      "outputs": []
    },
    {
      "cell_type": "code",
      "metadata": {
        "id": "nmRqw_1Xty1x",
        "colab_type": "code",
        "colab": {
          "base_uri": "https://localhost:8080/",
          "height": 34
        },
        "outputId": "83541b54-8438-4a14-8dfc-fc683c53532e"
      },
      "source": [
        "hit_rate_at_k()"
      ],
      "execution_count": 128,
      "outputs": [
        {
          "output_type": "execute_result",
          "data": {
            "text/plain": [
              "1"
            ]
          },
          "metadata": {
            "tags": []
          },
          "execution_count": 128
        }
      ]
    },
    {
      "cell_type": "code",
      "metadata": {
        "id": "d7IstnIQu3Rc",
        "colab_type": "code",
        "colab": {}
      },
      "source": [
        "def money_precision_at_k(recommended_list, bought_list, prices_recommended, k=5):\n",
        "        \n",
        "    # Лучше считать через скалярное произведение, а не цикл\n",
        "\n",
        "    flags = np.isin(recommended_list[:k], bought_list)\n",
        "\n",
        "    money_precision_k = sum(prices_recommended[:k] * flags) / sum(prices_recommended)\n",
        "    \n",
        "    return np.round(money_precision_k, 3)"
      ],
      "execution_count": 129,
      "outputs": []
    },
    {
      "cell_type": "code",
      "metadata": {
        "id": "RiVUpFuT3Usi",
        "colab_type": "code",
        "colab": {
          "base_uri": "https://localhost:8080/",
          "height": 34
        },
        "outputId": "a93cbe35-6163-42bc-c257-1a7dbd0f339e"
      },
      "source": [
        "money_precision_at_k(recommended_list, bought_list, prices_recommended)"
      ],
      "execution_count": 130,
      "outputs": [
        {
          "output_type": "execute_result",
          "data": {
            "text/plain": [
              "0.505"
            ]
          },
          "metadata": {
            "tags": []
          },
          "execution_count": 130
        }
      ]
    },
    {
      "cell_type": "code",
      "metadata": {
        "id": "6WenOKvyu3Rh",
        "colab_type": "code",
        "colab": {}
      },
      "source": [
        "def recall_at_k(recommended_list, bought_list, k=5):\n",
        "    \n",
        "    flags = np.isin(recommended_list[:k], bought_list)\n",
        "    \n",
        "    recall_k = np.sum(flags) / len(bought_list)\n",
        "\n",
        "    return recall_k\n",
        "\n",
        "\n",
        "def money_recall_at_k(recommended_list, bought_list, prices_recommended, prices_bought, k=5):\n",
        "    \n",
        "    flags = np.isin(recommended_list[:k], bought_list)\n",
        "\n",
        "    money_recall_k = sum(prices_recommended[:k] * flags) / sum(prices_bought)\n",
        "    \n",
        "    return money_recall_k.round(3)"
      ],
      "execution_count": 131,
      "outputs": []
    },
    {
      "cell_type": "code",
      "metadata": {
        "id": "WpSpUNtlEFWw",
        "colab_type": "code",
        "colab": {
          "base_uri": "https://localhost:8080/",
          "height": 34
        },
        "outputId": "33423a67-39ea-4100-d105-7f9f5523a2b5"
      },
      "source": [
        "recall_at_k(recommended_list, bought_list)"
      ],
      "execution_count": 132,
      "outputs": [
        {
          "output_type": "execute_result",
          "data": {
            "text/plain": [
              "0.5"
            ]
          },
          "metadata": {
            "tags": []
          },
          "execution_count": 132
        }
      ]
    },
    {
      "cell_type": "code",
      "metadata": {
        "id": "15HD8VzmJoC1",
        "colab_type": "code",
        "colab": {
          "base_uri": "https://localhost:8080/",
          "height": 34
        },
        "outputId": "c9fd4a74-a0bf-479c-c63f-d9c89df47261"
      },
      "source": [
        "money_recall_at_k(recommended_list, bought_list, prices_recommended, prices_bought)"
      ],
      "execution_count": 133,
      "outputs": [
        {
          "output_type": "execute_result",
          "data": {
            "text/plain": [
              "0.647"
            ]
          },
          "metadata": {
            "tags": []
          },
          "execution_count": 133
        }
      ]
    },
    {
      "cell_type": "code",
      "metadata": {
        "id": "2b7q0-E8u3Rn",
        "colab_type": "code",
        "colab": {}
      },
      "source": [
        "def reciprocal_rank(recommended_list, bought_list, k=5):\n",
        "\n",
        "    flags = np.isin(bought_list, recommended_list[:k])\n",
        "\n",
        "    id_bought = flags * bought_list\n",
        "    id_bought = id_bought[id_bought != 0]\n",
        "    \n",
        "    rank = list(recommended_list).index(id_bought[0]) + 1 \n",
        "\n",
        "    return rank"
      ],
      "execution_count": 134,
      "outputs": []
    },
    {
      "cell_type": "code",
      "metadata": {
        "id": "RdKM9FE9NfJ7",
        "colab_type": "code",
        "colab": {
          "base_uri": "https://localhost:8080/",
          "height": 34
        },
        "outputId": "e6634cd0-89b1-4caf-a1aa-6aa7c46624a2"
      },
      "source": [
        "reciprocal_rank(recommended_list, bought_list)"
      ],
      "execution_count": 135,
      "outputs": [
        {
          "output_type": "execute_result",
          "data": {
            "text/plain": [
              "1"
            ]
          },
          "metadata": {
            "tags": []
          },
          "execution_count": 135
        }
      ]
    }
  ]
}